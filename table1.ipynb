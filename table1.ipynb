{
 "cells": [
  {
   "cell_type": "markdown",
   "source": [
    "# For the actual KIID Setting"
   ],
   "metadata": {
    "collapsed": false
   }
  },
  {
   "cell_type": "code",
   "execution_count": 1,
   "metadata": {},
   "outputs": [],
   "source": [
    "import matplotlib.pyplot as plt\n",
    "import numpy as np\n",
    "import random, copy, os\n",
    "import pandas as pd\n",
    "random.seed(42)\n",
    "np.random.seed(42)\n",
    "import time\n",
    "from scipy.optimize import linprog\n",
    "from sklearn.metrics.pairwise import manhattan_distances\n",
    "from prettytable import PrettyTable"
   ]
  },
  {
   "cell_type": "code",
   "execution_count": 2,
   "metadata": {},
   "outputs": [],
   "source": [
    "%run wrapper_classes.ipynb"
   ]
  },
  {
   "cell_type": "code",
   "execution_count": 3,
   "metadata": {},
   "outputs": [],
   "source": [
    "%run algorithm_functions.ipynb"
   ]
  },
  {
   "cell_type": "markdown",
   "source": [
    "# 0. Set up the experiment\n",
    "## 0.1 Read in cleaned up, processed dataframe of drivers and requests"
   ],
   "metadata": {
    "collapsed": false
   }
  },
  {
   "cell_type": "code",
   "execution_count": 4,
   "outputs": [],
   "source": [
    "filtered_df = pd.read_csv('filtered data/filtered_df.csv')"
   ],
   "metadata": {
    "collapsed": false,
    "pycharm": {
     "name": "#%%\n"
    }
   }
  },
  {
   "cell_type": "code",
   "execution_count": 5,
   "outputs": [],
   "source": [
    "def run_experiment_comparison(num_U,num_V,driver_quotas,rider_tolerances, alphas, betas, gammas, num_loops, verbose = False):\n",
    "    driver_entries = []\n",
    "\n",
    "    #1. First read in the drivers and riders as objects\n",
    "    hack_licenses = filtered_df['hack_license'].unique()\n",
    "    chosen_licenses = np.random.choice(hack_licenses,size = num_U)\n",
    "\n",
    "    for i in range(chosen_licenses.shape[0]):\n",
    "        entries = filtered_df.loc[filtered_df['hack_license'] == chosen_licenses[i]]\n",
    "        driver_entries.append(entries.sample(n = 1))\n",
    "\n",
    "    driver_entries = pd.concat(driver_entries)\n",
    "    rider_entries = filtered_df.sample(n = num_V)\n",
    "\n",
    "    drivers = []\n",
    "    requests = []\n",
    "\n",
    "    d_id = 0\n",
    "    for index, row in driver_entries.iterrows():\n",
    "        init_lat_bin = row['init_lat_bin']\n",
    "        init_long_bin = row['init_long_bin']\n",
    "\n",
    "        pickup_lat_bin = row['pickup_lat_bin']\n",
    "        pickup_long_bin = row['pickup_long_bin']\n",
    "\n",
    "        dropoff_lat_bin = row['dropoff_lat_bin']\n",
    "        dropoff_long_bin = row['dropoff_long_bin']\n",
    "\n",
    "        driver_race = row['driver_race']\n",
    "        driver_gender = row['driver_gender']\n",
    "\n",
    "        drivers.append(Driver(d_id = d_id, driver_race = driver_race, driver_gender = driver_gender, pickup_lat_bin = pickup_lat_bin,\\\n",
    "                              pickup_long_bin = pickup_long_bin, driver_init_lat = init_lat_bin, driver_init_long = init_long_bin,\\\n",
    "                              quota = random.choice(driver_quotas), capacity = driver_capacity))\n",
    "        d_id += 1\n",
    "\n",
    "    r_id = 0\n",
    "    for index, row in rider_entries.iterrows():\n",
    "        pickup_lat_bin = row['pickup_lat_bin']\n",
    "        pickup_long_bin = row['pickup_long_bin']\n",
    "\n",
    "        dropoff_lat_bin = row['dropoff_lat_bin']\n",
    "        dropoff_long_bin = row['dropoff_long_bin']\n",
    "\n",
    "        driver_race = row['driver_race']\n",
    "        driver_gender = row['driver_gender']\n",
    "\n",
    "        pickup_latitude = row['pickup_latitude']\n",
    "        pickup_longitude = row['pickup_longitude']\n",
    "\n",
    "        dropoff_latitude = row['dropoff_latitude']\n",
    "        dropoff_longitude = row['dropoff_longitude']\n",
    "\n",
    "        request_gender = row['requests_gender']\n",
    "        request_race = row['requests_race']\n",
    "\n",
    "        requests.append(Request(pickup_lat_bin = pickup_lat_bin, pickup_long_bin = pickup_long_bin, dropoff_lat_bin = dropoff_lat_bin,\\\n",
    "                                dropoff_long_bin = dropoff_long_bin, pickup_latitude = pickup_latitude, pickup_longitude = pickup_longitude,\\\n",
    "                                dropoff_latitude = dropoff_latitude, dropoff_longitude = dropoff_longitude, requests_gender = request_gender,\\\n",
    "                                requests_race = request_race, arrival_rate = rider_arrival_rate, distance = None, utility = None))\n",
    "        r_id +=1\n",
    "\n",
    "    set_unique_ids(drivers)\n",
    "    set_unique_ids(requests)\n",
    "    for r in requests:\n",
    "        r.set_individual_rider_tolerance(random.choice(rider_tolerances)) #uniformly sample rider patience between {1, 2}\n",
    "\n",
    "\n",
    "    #2. Set the probability matrix\n",
    "    probability_matrix = np.empty([num_U,num_V])\n",
    "    for row in range(num_U):\n",
    "        for col in range(num_V):\n",
    "            driver_race = drivers[row].race\n",
    "            request_race = requests[col].race\n",
    "            if driver_race == 'white' and request_race == 'white':\n",
    "                probability_matrix[row,col] = 0.6\n",
    "            elif driver_race == 'white' and request_race == 'black':\n",
    "                probability_matrix[row,col] = 0.1\n",
    "            elif driver_race == 'black' and request_race == 'white':\n",
    "                probability_matrix[row,col] = 0.1\n",
    "            else:\n",
    "                probability_matrix[row,col] = 0.3\n",
    "\n",
    "    #3. Construct utility matrix\n",
    "    driver_pos = np.empty([num_U,2])\n",
    "    rider_pos = np.empty([num_V,2])\n",
    "    target_pos = np.empty([num_V,2])\n",
    "\n",
    "    for driver_idx in range(num_U):\n",
    "        driver_pos[driver_idx,0] = drivers[driver_idx].init_latitude\n",
    "        driver_pos[driver_idx,1] = drivers[driver_idx].init_longitude\n",
    "\n",
    "    for rider_idx in range(num_V):\n",
    "        rider_pos[rider_idx,0] = requests[rider_idx].start_latitude\n",
    "        rider_pos[rider_idx,1] = requests[rider_idx].start_longitude\n",
    "\n",
    "        target_pos[rider_idx,0] = requests[rider_idx].end_latitude\n",
    "        target_pos[rider_idx,1] = requests[rider_idx].end_longitude\n",
    "\n",
    "    driver_rider_dis = manhattan_distances(driver_pos,rider_pos)\n",
    "    trip_length = np.sum(np.abs(target_pos - rider_pos),axis = -1)\n",
    "    trip_length = np.tile(trip_length,(num_U,1))\n",
    "\n",
    "        #3.1Set the utility from three sides\n",
    "    driver_utility = trip_length - driver_rider_dis\n",
    "    driver_utility_matching = np.ones([num_U,num_V])\n",
    "    rider_utility = -driver_rider_dis# + np.max(driver_rider_dis)\n",
    "    rider_utility_matching = np.ones([num_U,num_V])\n",
    "    operator_utility = trip_length\n",
    "\n",
    "\n",
    "        #3.2scale them by a constant to be greater than 0\n",
    "    driver_utility -= np.min(driver_utility)\n",
    "    rider_utility -= np.min(rider_utility)\n",
    "\n",
    "    if verbose:\n",
    "        #print statistics of the utility matrix\n",
    "        t = PrettyTable(['','mean', 'std', 'min', 'max'])\n",
    "        t.title = 'utility statistics'\n",
    "        t.add_row(['operator utility'] + [operator_utility.mean(),operator_utility.std(),operator_utility.min(),operator_utility.max() ])\n",
    "        t.add_row(['driver utility'] + [driver_utility.mean(),driver_utility.std(),driver_utility.min(),driver_utility.max() ])\n",
    "        t.add_row(['driver utility matching'] + [driver_utility_matching.mean(),driver_utility_matching.std(),driver_utility_matching.min(),driver_utility_matching.max() ])\n",
    "        t.add_row(['rider utility'] + [rider_utility.mean(),rider_utility.std(),rider_utility.min(),rider_utility.max() ])\n",
    "        t.add_row(['rider utility matching'] + [rider_utility_matching.mean(),rider_utility_matching.std(),rider_utility_matching.min(),rider_utility_matching.max() ])\n",
    "        print(t)\n",
    "\n",
    "    #4. solve the LPs\n",
    "\n",
    "        #4.1 Operator LP TSGF\n",
    "    bound = np.reshape(np.array([0, 1]), (1, 2))\n",
    "    bounds_operator = np.tile(bound, (num_U * num_V, 1))\n",
    "    profit_c = get_operator_objective_kiid_sk(operator_utility * probability_matrix)\n",
    "    operator_A, operator_b = get_inequalities_operator_kiid_sk(drivers, requests, probability_matrix)\n",
    "    operator_x = linprog(profit_c, operator_A, operator_b, bounds=bounds_operator, method='highs')\n",
    "\n",
    "        #4.2 Driver LP TSGF\n",
    "    driver_c = get_driver_objective_kiid_sk(driver_utility)\n",
    "    driver_A, driver_b, driver_bounds = get_inequalities_driver_kiid_sk(drivers, requests, probability_matrix, driver_utility)\n",
    "    driver_x = linprog(driver_c, driver_A, driver_b, bounds=driver_bounds, method='highs')\n",
    "\n",
    "        #4.3 Rider LP TSGF\n",
    "    rider_c = get_rider_objective_kiid_sk(rider_utility)\n",
    "    rider_A, rider_b, rider_bounds = get_inequalities_rider_kiid_sk(drivers, requests, probability_matrix, rider_utility)\n",
    "    rider_x = linprog(rider_c, rider_A, rider_b, bounds=rider_bounds, method='highs')\n",
    "\n",
    "\n",
    "        #4.6 reshape the solutions\n",
    "    operator_x_2d = np.reshape(operator_x.x, [num_U, num_V])\n",
    "    driver_x_2d = np.reshape(driver_x.x[0:num_U * num_V], [num_U, num_V])\n",
    "    rider_x_2d = np.reshape(rider_x.x[0:num_U * num_V], [num_U, num_V])\n",
    "\n",
    "\n",
    "        #4.7 Calculate the statistics\n",
    "    operator_operator_ub = np.sum(np.sum(operator_x_2d * operator_utility * probability_matrix, axis=-1), axis=-1)\n",
    "    operator_driver_ub, operator_rider_ub = util_to_fairness(drivers, requests,\n",
    "                                                             np.sum(operator_x_2d * driver_utility * probability_matrix,\n",
    "                                                                    axis=1),\n",
    "                                                             np.sum(operator_x_2d * rider_utility * probability_matrix,\n",
    "                                                                    axis=0))\n",
    "\n",
    "    driver_operator_ub = np.sum(np.sum(driver_x_2d * operator_utility * probability_matrix, axis=-1), axis=-1)\n",
    "    driver_driver_ub, driver_rider_ub = util_to_fairness(drivers, requests,\n",
    "                                                         np.sum(driver_x_2d * driver_utility * probability_matrix, axis=1),\n",
    "                                                         np.sum(driver_x_2d * rider_utility * probability_matrix, axis=0))\n",
    "\n",
    "    rider_operator_ub = np.sum(np.sum(rider_x_2d * operator_utility * probability_matrix, axis=-1), axis=-1)\n",
    "    rider_driver_ub, rider_rider_ub = util_to_fairness(drivers, requests,\n",
    "                                                       np.sum(rider_x_2d * driver_utility * probability_matrix, axis=1),\n",
    "                                                       np.sum(rider_x_2d * rider_utility * probability_matrix, axis=0))\n",
    "\n",
    "    operator_ubs = [operator_operator_ub, operator_driver_ub, operator_rider_ub]\n",
    "    driver_ubs = [driver_operator_ub, driver_driver_ub, driver_rider_ub]\n",
    "    rider_ubs = [rider_operator_ub, rider_driver_ub, rider_rider_ub]\n",
    "\n",
    "\n",
    "    upper_bounds = np.array([operator_ubs[0], driver_ubs[1], rider_ubs[2]])\n",
    "    if verbose:\n",
    "        t = PrettyTable(['', 'profit', 'driver fairness', 'rider fairness'])\n",
    "        t.title = 'LP solutions'\n",
    "        t.add_row(['upper bounds'] + list(upper_bounds))\n",
    "        t.add_row(['operator LP'] + list(operator_ubs))\n",
    "        t.add_row(['driver LP'] + list(driver_ubs))\n",
    "        t.add_row(['rider LP'] + list(rider_ubs))\n",
    "        print(t)\n",
    "\n",
    "    #5. run the experiment\n",
    "        #5.1 Then run TSGF\n",
    "    requests_copy = copy.deepcopy(requests)\n",
    "    results_TSGF_inner = []\n",
    "\n",
    "    for n in range(len(alphas)):\n",
    "        t0 = time.time()\n",
    "        alpha = alphas[n]\n",
    "        beta = betas[n]\n",
    "        gamma = gammas[n]\n",
    "\n",
    "        match_results = np.zeros([num_loops,num_U,num_V])\n",
    "\n",
    "\n",
    "        for i in range(num_loops):\n",
    "            #TSGF\n",
    "            drivers_copy = [copy.deepcopy(d) for d in drivers]\n",
    "            run_TSGF_express(i,match_results,requests_copy, drivers_copy, probability_matrix, operator_x_2d,driver_x_2d, rider_x_2d,alpha=alpha, beta = beta, gamma = gamma)\n",
    "\n",
    "        driver_mean_utility = np.mean(np.sum(match_results * driver_utility,axis = -1),axis = 0)\n",
    "        rider_mean_utility = np.mean(np.sum(match_results * rider_utility,axis = -2),axis = 0)\n",
    "        operator_mean_utility = np.mean(np.sum(np.sum(match_results * operator_utility,axis = -1),axis = -1),axis = 0)\n",
    "\n",
    "        expost_d_fairness, expost_r_fairness = util_to_fairness(drivers,requests,driver_mean_utility,rider_mean_utility)\n",
    "        results_TSGF_inner.append([operator_mean_utility, expost_d_fairness,expost_r_fairness])\n",
    "\n",
    "\n",
    "        if verbose:\n",
    "            print(alpha, beta, gamma, time.time() - t0)\n",
    "\n",
    "\n",
    "    results = np.array(results_TSGF_inner)\n",
    "\n",
    "    profit_crs = np.reshape(results[:,0] / upper_bounds[0],[alphas.shape[0],1])\n",
    "    driver_fairness_crs = np.reshape(results[:,1] / upper_bounds[1],[alphas.shape[0],1])\n",
    "    rider_fairness_crs = np.reshape(results[:,2] / upper_bounds[2],[alphas.shape[0],1])\n",
    "\n",
    "    TSGF_crs = np.hstack([profit_crs, driver_fairness_crs, rider_fairness_crs])\n",
    "\n",
    "\n",
    "    #run greedy algorithms\n",
    "    request_copy = [copy.deepcopy(r) for r in requests]\n",
    "    overall_profit = [0, 0, 0]\n",
    "    driver_utilss = [[], [], []]\n",
    "    rider_utilss = [[], [], []]\n",
    "    for i in range(num_loops):\n",
    "        random.shuffle(request_copy)\n",
    "\n",
    "        drivers_match_o, requests_match_o = run_greedy_o(request_copy, [copy.deepcopy(d) for d in drivers],\n",
    "                                                          probability_matrix, operator_utility)\n",
    "        drivers_match_d, requests_match_d = run_greedy_d(request_copy, [copy.deepcopy(d) for d in drivers],\n",
    "                                                          probability_matrix, driver_utility)\n",
    "        drivers_match_r, requests_match_r = run_greedy_r(request_copy, [copy.deepcopy(d) for d in drivers],\n",
    "                                                          probability_matrix, rider_utility)\n",
    "\n",
    "        d_util_o, r_util_o = get_utils(drivers_match_o, requests_match_o, num_U, num_V, driver_utility, rider_utility)\n",
    "        d_util_d, r_util_d = get_utils(drivers_match_d, requests_match_d, num_U, num_V, driver_utility, rider_utility)\n",
    "        d_util_r, r_util_r = get_utils(drivers_match_r, requests_match_r, num_U, num_V, driver_utility, rider_utility)\n",
    "\n",
    "        driver_utilss[0].append(d_util_o)\n",
    "        rider_utilss[0].append(r_util_o)\n",
    "\n",
    "        driver_utilss[1].append(d_util_d)\n",
    "        rider_utilss[1].append(r_util_d)\n",
    "\n",
    "        driver_utilss[2].append(d_util_r)\n",
    "        rider_utilss[2].append(r_util_r)\n",
    "\n",
    "        overall_profit[0] += get_profit(drivers_match_o, requests_match_o, operator_utility)\n",
    "        overall_profit[1] += get_profit(drivers_match_d, requests_match_o, operator_utility)\n",
    "        overall_profit[2] += get_profit(drivers_match_r, requests_match_o, operator_utility)\n",
    "\n",
    "    overall_profit = np.array(overall_profit) / num_loops\n",
    "    driver_utilss = np.mean(np.array(driver_utilss), axis=1)\n",
    "    rider_utilss = np.mean(np.array(rider_utilss), axis=1)\n",
    "\n",
    "    expost_d_fairness_o, expost_r_fairness_o = util_to_fairness(drivers, requests, driver_utilss[0], rider_utilss[0])\n",
    "    expost_d_fairness_d, expost_r_fairness_d = util_to_fairness(drivers, requests, driver_utilss[1], rider_utilss[1])\n",
    "    expost_d_fairness_r, expost_r_fairness_r = util_to_fairness(drivers, requests, driver_utilss[2], rider_utilss[2])\n",
    "\n",
    "    greedy_o_results = np.array([overall_profit[0], expost_d_fairness_o, expost_r_fairness_o]) / upper_bounds\n",
    "    greedy_d_results = np.array([overall_profit[1], expost_d_fairness_d, expost_r_fairness_d]) / upper_bounds\n",
    "    greedy_r_results = np.array([overall_profit[2], expost_d_fairness_r, expost_r_fairness_r]) / upper_bounds\n",
    "\n",
    "    greedy_crs = np.array([greedy_o_results,greedy_r_results,greedy_d_results])\n",
    "\n",
    "    return TSGF_crs, greedy_crs\n"
   ],
   "metadata": {
    "collapsed": false,
    "pycharm": {
     "name": "#%%\n"
    }
   }
  },
  {
   "cell_type": "markdown",
   "source": [
    "# Run the Experiment"
   ],
   "metadata": {
    "collapsed": false
   }
  },
  {
   "cell_type": "code",
   "execution_count": 6,
   "outputs": [],
   "source": [
    "start_t = time.time()"
   ],
   "metadata": {
    "collapsed": false,
    "pycharm": {
     "name": "#%%\n"
    }
   }
  },
  {
   "cell_type": "code",
   "execution_count": 7,
   "outputs": [],
   "source": [
    "num_trials = 100\n",
    "num_loops = 100\n",
    "num_ticks = 3"
   ],
   "metadata": {
    "collapsed": false,
    "pycharm": {
     "name": "#%%\n"
    }
   }
  },
  {
   "cell_type": "code",
   "execution_count": 8,
   "outputs": [],
   "source": [
    "num_U = 49\n",
    "num_V = 172\n",
    "\n",
    "driver_quotas = [3] #driver patience set to 3\n",
    "rider_tolerances = [1,2]\n",
    "driver_capacity = 1\n",
    "rider_arrival_rate = 1"
   ],
   "metadata": {
    "collapsed": false,
    "pycharm": {
     "name": "#%%\n"
    }
   }
  },
  {
   "cell_type": "code",
   "execution_count": 9,
   "outputs": [],
   "source": [
    "alphas = np.array([1,0,0])\n",
    "betas = np.array([0,1,0])\n",
    "gammas = np.array([0,0,1])"
   ],
   "metadata": {
    "collapsed": false,
    "pycharm": {
     "name": "#%%\n"
    }
   }
  },
  {
   "cell_type": "code",
   "execution_count": 10,
   "outputs": [
    {
     "name": "stdout",
     "output_type": "stream",
     "text": [
      "0\n",
      "1\n",
      "2\n",
      "3\n",
      "4\n",
      "5\n",
      "6\n",
      "7\n",
      "8\n",
      "9\n",
      "10\n",
      "11\n",
      "12\n",
      "13\n",
      "14\n",
      "15\n",
      "16\n",
      "17\n",
      "18\n",
      "19\n",
      "20\n",
      "21\n",
      "22\n",
      "23\n",
      "24\n",
      "25\n",
      "26\n",
      "27\n",
      "28\n",
      "29\n",
      "30\n",
      "31\n",
      "32\n",
      "33\n",
      "34\n",
      "35\n",
      "36\n",
      "37\n",
      "38\n",
      "39\n",
      "40\n",
      "41\n",
      "42\n",
      "43\n",
      "44\n",
      "45\n",
      "46\n",
      "47\n",
      "48\n",
      "49\n",
      "50\n",
      "51\n",
      "52\n",
      "53\n",
      "54\n",
      "55\n",
      "56\n",
      "57\n",
      "58\n",
      "59\n",
      "60\n",
      "61\n",
      "62\n",
      "63\n",
      "64\n",
      "65\n",
      "66\n",
      "67\n",
      "68\n",
      "69\n",
      "70\n",
      "71\n",
      "72\n",
      "73\n",
      "74\n",
      "75\n",
      "76\n",
      "77\n",
      "78\n",
      "79\n",
      "80\n",
      "81\n",
      "82\n",
      "83\n",
      "84\n",
      "85\n",
      "86\n",
      "87\n",
      "88\n",
      "89\n",
      "90\n",
      "91\n",
      "92\n",
      "93\n",
      "94\n",
      "95\n",
      "96\n",
      "97\n",
      "98\n",
      "99\n",
      "2052.331593990326\n"
     ]
    }
   ],
   "source": [
    "t0 = time.time()\n",
    "results_TSGF = np.zeros([num_trials, num_ticks,3])\n",
    "results_greedy = np.zeros([num_trials, num_ticks,3])\n",
    "for i in range(num_trials):\n",
    "    print(i)\n",
    "    results_TSGF_single, results_greedy_single = run_experiment_comparison(num_U,num_V,driver_quotas,rider_tolerances, alphas, betas, gammas, num_loops, False)\n",
    "    results_TSGF[i,:,:] =  results_TSGF_single\n",
    "    results_greedy[i,:,:] = results_greedy_single\n",
    "print(time.time() - t0)"
   ],
   "metadata": {
    "collapsed": false,
    "pycharm": {
     "name": "#%%\n"
    }
   }
  },
  {
   "cell_type": "code",
   "execution_count": 11,
   "outputs": [],
   "source": [
    "results_TSGF_mean = np.mean(results_TSGF,axis = 0)\n",
    "results_TSGF_bar = np.std(results_TSGF,axis = 0)\n",
    "results_greedy_mean = np.mean(results_greedy,axis = 0)\n",
    "results_greedy_bar = np.std(results_greedy,axis = 0)"
   ],
   "metadata": {
    "collapsed": false,
    "pycharm": {
     "name": "#%%\n"
    }
   }
  },
  {
   "cell_type": "code",
   "execution_count": 12,
   "outputs": [
    {
     "name": "stdout",
     "output_type": "stream",
     "text": [
      "[[0.59459638 0.3981727  0.38428878]\n",
      " [0.51662987 0.57056257 0.4417287 ]\n",
      " [0.25201269 0.35341727 0.57370397]]\n"
     ]
    }
   ],
   "source": [
    "print(results_TSGF_mean)"
   ],
   "metadata": {
    "collapsed": false,
    "pycharm": {
     "name": "#%%\n"
    }
   }
  },
  {
   "cell_type": "code",
   "execution_count": 13,
   "outputs": [
    {
     "name": "stdout",
     "output_type": "stream",
     "text": [
      "[[0.43130857 0.5488619  0.50336562]\n",
      " [0.37116236 0.60929982 0.56277238]\n",
      " [0.31593915 0.50371722 0.5127989 ]]\n"
     ]
    }
   ],
   "source": [
    "print(results_greedy_mean)"
   ],
   "metadata": {
    "collapsed": false,
    "pycharm": {
     "name": "#%%\n"
    }
   }
  },
  {
   "cell_type": "code",
   "execution_count": null,
   "outputs": [],
   "source": [],
   "metadata": {
    "collapsed": false,
    "pycharm": {
     "name": "#%%\n"
    }
   }
  }
 ],
 "metadata": {
  "kernelspec": {
   "display_name": "Python 3",
   "language": "python",
   "name": "python3"
  },
  "language_info": {
   "codemirror_mode": {
    "name": "ipython",
    "version": 3
   },
   "file_extension": ".py",
   "mimetype": "text/x-python",
   "name": "python",
   "nbconvert_exporter": "python",
   "pygments_lexer": "ipython3",
   "version": "3.7.9"
  }
 },
 "nbformat": 4,
 "nbformat_minor": 2
}